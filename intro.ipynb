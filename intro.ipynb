{
 "cells": [
  {
   "cell_type": "markdown",
   "id": "2d5e0b2a",
   "metadata": {},
   "source": [
    "- Add the files : .gitignore and README.md\n",
    "- Do : git init\n",
    "- After adding commit it : git add . then git commit -m \"gitignore is commited\"\n",
    "- Then git push origin main"
   ]
  },
  {
   "cell_type": "markdown",
   "id": "ece73c0c",
   "metadata": {},
   "source": [
    "## Some libraries in python which can make project structure : cookie-cutter"
   ]
  },
  {
   "cell_type": "markdown",
   "id": "ac836356",
   "metadata": {},
   "source": []
  }
 ],
 "metadata": {
  "language_info": {
   "name": "python"
  }
 },
 "nbformat": 4,
 "nbformat_minor": 5
}
