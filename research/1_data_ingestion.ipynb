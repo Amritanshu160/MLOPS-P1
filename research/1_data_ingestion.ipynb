{
 "cells": [
  {
   "cell_type": "code",
   "execution_count": 3,
   "id": "b8f3ac45",
   "metadata": {},
   "outputs": [],
   "source": [
    "import os"
   ]
  },
  {
   "cell_type": "code",
   "execution_count": 4,
   "id": "94370c9f",
   "metadata": {},
   "outputs": [
    {
     "data": {
      "text/plain": [
       "'c:\\\\Users\\\\Amritanshu Bhardwaj\\\\Desktop\\\\MLOPS-P1\\\\research'"
      ]
     },
     "execution_count": 4,
     "metadata": {},
     "output_type": "execute_result"
    }
   ],
   "source": [
    "%pwd ## To see the present working directory"
   ]
  },
  {
   "cell_type": "code",
   "execution_count": 5,
   "id": "6f2a2904",
   "metadata": {},
   "outputs": [
    {
     "data": {
      "text/plain": [
       "'c:\\\\Users\\\\Amritanshu Bhardwaj\\\\Desktop\\\\MLOPS-P1'"
      ]
     },
     "execution_count": 5,
     "metadata": {},
     "output_type": "execute_result"
    }
   ],
   "source": [
    "os.chdir(\"../\")  ## This is for going to my parent directory --> i.e. \"datascience\" project.\n",
    "%pwd \n",
    "## After this we will be in our parent directory"
   ]
  },
  {
   "cell_type": "code",
   "execution_count": 6,
   "id": "a5355737",
   "metadata": {},
   "outputs": [],
   "source": [
    "from dataclasses import dataclass\n",
    "## So i m basically going to create a dataclass\n",
    "from pathlib import Path\n",
    "\n",
    "@dataclass ## A decorator\n",
    "class DataIngestionConfig:\n",
    "    root_dir: Path\n",
    "    source_URL: str\n",
    "    local_data_file: Path\n",
    "    unzip_dir: Path\n",
    "## Same as in config.yaml file\n",
    "# Difference b/w dataclass and normal class ??\n",
    "# In normal class most of the times we use self keyword here we don't have to probably use it , and here we are just focused on assigning\n",
    "# some values to the variable. If u don't have functions at all , then at that time u can use dataclass.\n",
    "# This Config needs to be passed in the data ingestion pipeline.    "
   ]
  },
  {
   "cell_type": "code",
   "execution_count": 7,
   "id": "f3245d34",
   "metadata": {},
   "outputs": [],
   "source": [
    "from src.datascience.constants import * ## import * means everything will be imported from that file , also we can specifically import CONFIG_FILE_PATH\n",
    "from src.datascience.utils.common import read_yaml, create_directories"
   ]
  },
  {
   "cell_type": "code",
   "execution_count": 8,
   "id": "0c4aeac6",
   "metadata": {},
   "outputs": [],
   "source": [
    "class ConfigurationManager:\n",
    "    def __init__(self,\n",
    "                 config_filepath=CONFIG_FILE_PATH,\n",
    "                 params_filepath=PARAMS_FILE_PATH,\n",
    "                 schema_filepath=SCHEMA_FILE_PATH):  ## This CONFIG_FILE_PATH will be defined in : src/constants\n",
    "        ## The above is basically my constructor for this particular class\n",
    "        self.config = read_yaml(config_filepath)\n",
    "        self.params = read_yaml(params_filepath)\n",
    "        self.schema = read_yaml(schema_filepath)\n",
    "\n",
    "        ## First folder getting created here in config.yaml is artifacts folder\n",
    "        create_directories([self.config.artifacts_root]) ## artifacts folder will be created\n",
    "\n",
    "    def get_data_ingestion_config(self) -> DataIngestionConfig:\n",
    "        ## Return type is DataIngestionConfig\n",
    "        config = self.config.data_ingestion ## bcoz the first key we had in config.yaml was data_ingestion\n",
    "        create_directories([config.root_dir]) ## first directory we had in data_ingestion was root_dir\n",
    "\n",
    "        data_ingestion_config = DataIngestionConfig(\n",
    "            root_dir = config.root_dir,\n",
    "            source_URL = config.source_URL,\n",
    "            local_data_file = config.local_data_file,\n",
    "            unzip_dir = config.unzip_dir\n",
    "        )\n",
    "        return data_ingestion_config ## This will be passed to my data ingestion pipeline"
   ]
  },
  {
   "cell_type": "code",
   "execution_count": 10,
   "id": "aad8ba2c",
   "metadata": {},
   "outputs": [],
   "source": [
    "import os\n",
    "import urllib.request as request\n",
    "from src.datascience import logger\n",
    "import zipfile"
   ]
  },
  {
   "cell_type": "code",
   "execution_count": 15,
   "id": "97013dd9",
   "metadata": {},
   "outputs": [],
   "source": [
    "## Data Ingestion Component\n",
    "class DataIngestion:\n",
    "    def __init__(self,config:DataIngestionConfig): ## Return type of config will be DataIngestionConfig\n",
    "        self.config = config ## assigning config\n",
    "    \n",
    "    ## Downloading the zip file\n",
    "    def download_file(self):\n",
    "        if not os.path.exists(self.config.local_data_file):\n",
    "            filename, headers = request.urlretrieve(  ## Whe we do url retriever we have to load the data into my local_data_file\n",
    "                url = self.config.source_URL,\n",
    "                filename = self.config.local_data_file    ## These are available in config/config.yaml , at this path my entire file will get created\n",
    "            )\n",
    "            logger.info(f\"{filename} download! with following info: \\n{headers}\")\n",
    "        else:\n",
    "            logger.info(f\"File already exists\")\n",
    "\n",
    "    ## Extract the zip file\n",
    "    def extract_zip_file(self):\n",
    "        \"\"\"\n",
    "        zip_file_path: str\n",
    "        Extracts the zip file into the data directory\n",
    "        Function retuns None\n",
    "        \"\"\" \n",
    "        unzip_path = self.config.unzip_dir ## On this path the entire zip file will be unzipped\n",
    "        os.makedirs(unzip_path,exist_ok=True)\n",
    "        with zipfile.ZipFile(self.config.local_data_file,'r') as zip_ref:\n",
    "            zip_ref.extractall(unzip_path)      \n"
   ]
  },
  {
   "cell_type": "code",
   "execution_count": null,
   "id": "73a0db2d",
   "metadata": {},
   "outputs": [
    {
     "name": "stdout",
     "output_type": "stream",
     "text": [
      "[2025-10-17 15:00:04,801: INFO: common: yaml file: config\\config.yaml loaded successfully]\n",
      "[2025-10-17 15:00:04,803: INFO: common: yaml file: params.yaml loaded successfully]\n",
      "[2025-10-17 15:00:04,805: INFO: common: yaml file: schema.yaml loaded successfully]\n",
      "[2025-10-17 15:00:04,807: INFO: common: Created directory at: artifacts]\n",
      "[2025-10-17 15:00:04,808: INFO: common: Created directory at: artifacts/data_ingestion]\n",
      "[2025-10-17 15:00:06,145: INFO: 1434278387: artifacts/data_ingestion/data.zip download! with following info: \n",
      "Connection: close\n",
      "Content-Length: 23329\n",
      "Cache-Control: max-age=300\n",
      "Content-Security-Policy: default-src 'none'; style-src 'unsafe-inline'; sandbox\n",
      "Content-Type: application/zip\n",
      "ETag: \"c69888a4ae59bc5a893392785a938ccd4937981c06ba8a9d6a21aa52b4ab5b6e\"\n",
      "Strict-Transport-Security: max-age=31536000\n",
      "X-Content-Type-Options: nosniff\n",
      "X-Frame-Options: deny\n",
      "X-XSS-Protection: 1; mode=block\n",
      "X-GitHub-Request-Id: E2AA:11D3E4:8B333:F8F35:68F20C9C\n",
      "Accept-Ranges: bytes\n",
      "Date: Fri, 17 Oct 2025 09:30:05 GMT\n",
      "Via: 1.1 varnish\n",
      "X-Served-By: cache-maa10245-MAA\n",
      "X-Cache: MISS\n",
      "X-Cache-Hits: 0\n",
      "X-Timer: S1760693405.080849,VS0,VE341\n",
      "Vary: Authorization,Accept-Encoding\n",
      "Access-Control-Allow-Origin: *\n",
      "Cross-Origin-Resource-Policy: cross-origin\n",
      "X-Fastly-Request-ID: 930b23f0c26c51dc7aac88b3a707e941427889d8\n",
      "Expires: Fri, 17 Oct 2025 09:35:05 GMT\n",
      "Source-Age: 0\n",
      "\n",
      "]\n"
     ]
    }
   ],
   "source": [
    "try:\n",
    "   config = ConfigurationManager()\n",
    "   data_ingestion_config = config.get_data_ingestion_config() ## get_data_ingestion_config is taking out all the information\n",
    "   data_ingestion = DataIngestion(config=data_ingestion_config)\n",
    "   data_ingestion.download_file()\n",
    "   data_ingestion.extract_zip_file()\n",
    "except Exception as e:\n",
    "   raise e  \n",
    "\n",
    "## Note: If params.yaml or schema.yaml is empty it will throw the error : so add anything in them , like for eg. key: value(for rightnow)\n",
    "# After this ur artifacts folder will be created.\n",
    "# Now we will do the same as we have done here , just we will do in modular coding "
   ]
  }
 ],
 "metadata": {
  "kernelspec": {
   "display_name": "Python 3",
   "language": "python",
   "name": "python3"
  },
  "language_info": {
   "codemirror_mode": {
    "name": "ipython",
    "version": 3
   },
   "file_extension": ".py",
   "mimetype": "text/x-python",
   "name": "python",
   "nbconvert_exporter": "python",
   "pygments_lexer": "ipython3",
   "version": "3.12.5"
  }
 },
 "nbformat": 4,
 "nbformat_minor": 5
}
